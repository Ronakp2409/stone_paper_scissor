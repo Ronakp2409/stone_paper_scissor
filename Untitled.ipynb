{
 "cells": [
  {
   "cell_type": "code",
   "execution_count": 34,
   "id": "ef07ca98-358b-43ef-bbda-aeb292d2dc85",
   "metadata": {},
   "outputs": [
    {
     "ename": "SyntaxError",
     "evalue": "unterminated f-string literal (detected at line 9) (3096956019.py, line 9)",
     "output_type": "error",
     "traceback": [
      "\u001b[1;36m  Cell \u001b[1;32mIn[34], line 9\u001b[1;36m\u001b[0m\n\u001b[1;33m    os.rename(f\"data/Day{i+1}\", f\"data/Tutorails{i+1})\u001b[0m\n\u001b[1;37m                                ^\u001b[0m\n\u001b[1;31mSyntaxError\u001b[0m\u001b[1;31m:\u001b[0m unterminated f-string literal (detected at line 9)\n"
     ]
    }
   ],
   "source": [
    "import os\n",
    "print(os.getcwd())\n",
    "if (not os.path.exists(\"data\")):\n",
    "    os.mkdir(\"data\")\n",
    "    for i in range (0,100):\n",
    "        os.mkdir(f\"data/Day{i+1}\")\n",
    "else:\n",
    "    for i in range (0,100):\n",
    "        os.rename(f\"data/Day{i+1}\", f\"data/Tutorails{i+1})\n",
    "\n",
    "\n",
    "\n"
   ]
  },
  {
   "cell_type": "code",
   "execution_count": null,
   "id": "09f3bf2c-4cf3-4796-9bfc-58ca4b873e05",
   "metadata": {},
   "outputs": [],
   "source": [
    "os"
   ]
  }
 ],
 "metadata": {
  "kernelspec": {
   "display_name": "Python [conda env:base] *",
   "language": "python",
   "name": "conda-base-py"
  },
  "language_info": {
   "codemirror_mode": {
    "name": "ipython",
    "version": 3
   },
   "file_extension": ".py",
   "mimetype": "text/x-python",
   "name": "python",
   "nbconvert_exporter": "python",
   "pygments_lexer": "ipython3",
   "version": "3.12.7"
  }
 },
 "nbformat": 4,
 "nbformat_minor": 5
}
