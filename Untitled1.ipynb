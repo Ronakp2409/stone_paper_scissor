{
 "cells": [
  {
   "cell_type": "code",
   "execution_count": 5,
   "id": "11266817-a1ca-4524-993c-f7ea8568ee09",
   "metadata": {},
   "outputs": [
    {
     "name": "stdout",
     "output_type": "stream",
     "text": [
      "Merged: C:\\Users\\Ronak\\Downloads\\ABS.pdf\n",
      "Merged: C:\\Users\\Ronak\\Downloads\\AppointmentReceipt.pdf\n",
      "Merged: C:\\Users\\Ronak\\Downloads\\AssociateCloudEngineer20250203-28-m4j7f8.pdf\n",
      "Merged: C:\\Users\\Ronak\\Downloads\\Copy of Raji_Business Analyst_Resume .pdf\n",
      "Merged: C:\\Users\\Ronak\\Downloads\\GPSC-202425-110-42.pdf\n",
      "Merged: C:\\Users\\Ronak\\Downloads\\Infomatica_MDM.pdf\n",
      "Merged: C:\\Users\\Ronak\\Downloads\\Minimalist Modern Professional CV Resume (1).pdf\n",
      "Merged: C:\\Users\\Ronak\\Downloads\\ProfessionalDataEngineer20250203-28-e9rkpw.pdf\n",
      "Merged: C:\\Users\\Ronak\\Downloads\\Raji.pdf\n",
      "Merged: C:\\Users\\Ronak\\Downloads\\Ronak Prajapati-Resume.pdf\n",
      "Merged: C:\\Users\\Ronak\\Downloads\\Ronak_Prajapati.pdf\n",
      "Merged: C:\\Users\\Ronak\\Downloads\\Ronak_Prajapati_volvo.pdf\n",
      "Merged: C:\\Users\\Ronak\\Downloads\\Ronak_Volvo_Digital_IT.pdf\n",
      "Merged: C:\\Users\\Ronak\\Downloads\\Ronak_resume (1).pdf\n",
      "Merged: C:\\Users\\Ronak\\Downloads\\TUTA_recovery.pdf\n",
      "Merged: C:\\Users\\Ronak\\Downloads\\ViewPrintApplicationReceipt.pdf\n",
      "Merged: C:\\Users\\Ronak\\Downloads\\hsc_marksheet.pdf\n",
      "Merged: C:\\Users\\Ronak\\Downloads\\passport.pdf\n",
      "Merged: C:\\Users\\Ronak\\Downloads\\ronakpan.pdf\n",
      "Merged: C:\\Users\\Ronak\\Downloads\\salaryslip.pdf\n",
      "Merged: C:\\Users\\Ronak\\Downloads\\ssc.pdf\n",
      "\n",
      "Merged PDF saved as: C:\\Users\\Ronak\\Downloads\\merged_output.pdf\n"
     ]
    }
   ],
   "source": [
    "import os\n",
    "from PyPDF2 import PdfMerger\n",
    "\n",
    "folder_path = r'C:\\Users\\Ronak\\Downloads'\n",
    "output_file = os.path.join(folder_path, 'merged_output.pdf')\n",
    "\n",
    "merger = PdfMerger()\n",
    "\n",
    "pdf_file = sorted([\n",
    "  os.path.join(folder_path, file)\n",
    "  for file in os.listdir(folder_path)\n",
    "  if file.endswith('.pdf')\n",
    "])\n",
    "\n",
    "if not pdf_file:\n",
    "  print(f\"No PDF files found in {folder_path}\")\n",
    "else:\n",
    "  for file in pdf_file:\n",
    "    merger.append(file)\n",
    "    print(f\"Merged: {file}\")\n",
    "\n",
    "  # Save the merged PDF to disk\n",
    "  merger.write(output_file)\n",
    "  merger.close()\n",
    "  print(f\"\\nMerged PDF saved as: {output_file}\")\n"
   ]
  }
 ],
 "metadata": {
  "kernelspec": {
   "display_name": "Python [conda env:base] *",
   "language": "python",
   "name": "conda-base-py"
  },
  "language_info": {
   "codemirror_mode": {
    "name": "ipython",
    "version": 3
   },
   "file_extension": ".py",
   "mimetype": "text/x-python",
   "name": "python",
   "nbconvert_exporter": "python",
   "pygments_lexer": "ipython3",
   "version": "3.12.7"
  }
 },
 "nbformat": 4,
 "nbformat_minor": 5
}
